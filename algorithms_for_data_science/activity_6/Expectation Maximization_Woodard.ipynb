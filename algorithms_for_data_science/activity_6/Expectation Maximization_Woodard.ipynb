{
 "cells": [
  {
   "cell_type": "markdown",
   "metadata": {},
   "source": [
    "# Module 6 Activity"
   ]
  },
  {
   "cell_type": "markdown",
   "metadata": {},
   "source": [
    "During this module we are learning about computational statistics which is a branch of mathematical sciences concerned with efficient methods for obtaining numerical solutions to statistically formulated problems.\n",
    "\n",
    "In this activity you are going to go through the process of calculating Expectation Maximization as shown in the lecture notes and slides using the following two column example. "
   ]
  },
  {
   "cell_type": "code",
   "execution_count": 5,
   "metadata": {},
   "outputs": [
    {
     "name": "stdout",
     "output_type": "stream",
     "text": [
      "[[1 2]\n",
      " [4 2]\n",
      " [1 3]\n",
      " [4 3]]\n"
     ]
    }
   ],
   "source": [
    "import numpy as np\n",
    "\n",
    "# Define the columns\n",
    "column_1 = np.array([1, 4, 1, 4])\n",
    "column_2 = np.array([2, 2, 3, 3])\n",
    "\n",
    "# Create the 2-column array\n",
    "x = np.column_stack((column_1, column_2))\n",
    "print(x)"
   ]
  },
  {
   "cell_type": "code",
   "execution_count": 16,
   "metadata": {},
   "outputs": [
    {
     "name": "stdout",
     "output_type": "stream",
     "text": [
      "Column mean is [[2.5]\n",
      " [2.5]]\n",
      "Column std deviation is [[1.73205081]\n",
      " [0.57735027]]\n",
      "Shape of column mean: (2, 1), shape of column std dev: (2, 1)\n",
      "Mu is [[0.16635886 1.72211962]\n",
      " [1.23016023 2.07672008]]\n",
      "Sigma is [1.15470054 1.15470054]\n",
      "P_k is [0.5 0.5]\n",
      "Shapes: (4, 2) (2, 2) (2,) (2,)\n"
     ]
    }
   ],
   "source": [
    "k = 2\n",
    "\n",
    "# Get column means and standard deviations by taking the mean and standard deviation of each column and transposing the result\n",
    "column_mean = np.reshape(x.mean(axis=0), (2, 1))\n",
    "print(f\"Column mean is {column_mean}\")\n",
    "\n",
    "column_std_dev = np.reshape(x.std(axis=0, ddof=1), (2, 1))\n",
    "print(f\"Column std deviation is {column_std_dev}\")\n",
    "\n",
    "print(f\"Shape of column mean: {column_mean.shape}, shape of column std dev: {column_std_dev.shape}\")\n",
    "\n",
    "# NOTE: Using example values from lecture notes in mu here for ease of verification \n",
    "# NOTE: We should be using np.random.randn(1, k) instead of [-0.1867, 0.7257]\n",
    "# mu = (column_mean * np.array([1, 1])) + (column_std_dev * np.random.randn(1,k)).T\n",
    "\n",
    "# Transpose mu as mu_k is a column major vector\n",
    "mu = (column_mean * np.array([1, 1])) + (column_std_dev * np.array([-0.1867, 0.7257])).T\n",
    "print(f\"Mu is {mu}\")\n",
    "\n",
    "# Sigma\n",
    "sigma = column_std_dev.mean() * np.array([1, 1])\n",
    "print(f\"Sigma is {sigma}\")\n",
    "\n",
    "# P_k\n",
    "p_k = np.ones(x.shape[1]) / k\n",
    "print(f\"P_k is {p_k}\")\n",
    "\n",
    "print(\"Shapes:\", x.shape, mu.shape, sigma.shape, p_k.shape)"
   ]
  },
  {
   "cell_type": "code",
   "execution_count": 7,
   "metadata": {},
   "outputs": [
    {
     "name": "stdout",
     "output_type": "stream",
     "text": [
      "[0.054735249114340426, 0.005222216103570018, 0.042158772661716484, 0.004022311491464133, 0.026685400040000792, 0.02083020858323496, 0.025960937603389172, 0.020264704463277303]\n",
      "[0.08142064915434122, 0.02605242468680498, 0.06811971026510566, 0.024287015954741437, 0.08142064915434122, 0.02605242468680498, 0.06811971026510566, 0.024287015954741437]\n",
      "[0.6722526740186525, 0.20045029076372164, 0.6188924247863739, 0.1656157141313557, 0.3277473259813474, 0.7995497092362783, 0.3811075752136261, 0.8343842858686442]\n"
     ]
    }
   ],
   "source": [
    "# Create E Step\n",
    "\n",
    "def gaussian(x, mu, sigma):\n",
    "    left_term = 1 / ((np.sqrt(2 * np.pi) * sigma) ** np.shape(x))\n",
    "    right_term = np.exp(-0.5 * np.linalg.norm(x - mu) ** 2 / sigma ** 2)\n",
    "    return left_term * right_term\n",
    "\n",
    "gaussian_functions = []\n",
    "gaussian_sums = []\n",
    "for index in range(k):\n",
    "    for feature in x:\n",
    "\n",
    "        # I know I'm calculating the same thing twice here and for the sum, done for clarity \n",
    "        gaussian_functions.extend(p_k[index] * gaussian(feature, mu=mu[index], sigma=sigma[index]))\n",
    "\n",
    "        sum = 0\n",
    "        for ind in range(k):\n",
    "            sum += p_k[ind] * gaussian(feature, mu=mu[ind], sigma=sigma[ind])\n",
    "        gaussian_sums.extend(sum)\n",
    "\n",
    "print(gaussian_functions)\n",
    "print(gaussian_sums)\n",
    "\n",
    "membership_probabilities = []\n",
    "for function, sum in zip(gaussian_functions, gaussian_sums):\n",
    "    membership_probabilities.append(function / sum)\n",
    "\n",
    "print(membership_probabilities)"
   ]
  },
  {
   "cell_type": "code",
   "execution_count": 8,
   "metadata": {},
   "outputs": [
    {
     "name": "stdout",
     "output_type": "stream",
     "text": [
      "Mean_k is: [1.66267841 2.47339059]\n",
      "std_dev_k is: 0.948204748332092\n",
      "Probability is: 0.41430277592502596\n",
      "Mean_k is: [3.0922935  2.51882261]\n",
      "std_dev_k is: 1.036540909983979\n",
      "Probability is: 0.585697224074974\n",
      "Means: [array([1.66267841, 2.47339059]), array([3.0922935 , 2.51882261])]\n",
      "Standard Deviations: [0.948204748332092, 1.036540909983979]\n",
      "Probabilities: [0.41430277592502596, 0.585697224074974]\n"
     ]
    }
   ],
   "source": [
    "# Create M Step\n",
    "split_data = np.split(np.array(membership_probabilities), k, axis=0)\n",
    "\n",
    "means = []\n",
    "std_devs = []\n",
    "probabilities = []\n",
    "\n",
    "for membership_probability in split_data:\n",
    "    top_sum = 0\n",
    "    bottom_sum = 0\n",
    "    membership_probabilities_sum = 0\n",
    "\n",
    "    for index, feature in enumerate(x):\n",
    "        top_sum += membership_probability[index] * feature\n",
    "        membership_probabilities_sum += membership_probability[index] \n",
    "\n",
    "    mean_k = top_sum / membership_probabilities_sum\n",
    "    means.append(mean_k)\n",
    "    print(f\"Mean_k is: {mean_k}\")\n",
    "\n",
    "    top_sum = 0\n",
    "    for index, feature in enumerate(x):\n",
    "        top_sum += membership_probability[index] * np.linalg.norm(feature - mean_k) ** 2\n",
    "\n",
    "    std_dev_k = np.sqrt(0.5 * top_sum / membership_probabilities_sum)\n",
    "    std_devs.append(std_dev_k)\n",
    "    print(f\"std_dev_k is: {std_dev_k}\")\n",
    "\n",
    "    probability = membership_probabilities_sum / x.shape[0]\n",
    "    probabilities.append(probability)\n",
    "    print(f\"Probability is: {probability}\")\n",
    "\n",
    "print(f\"Means: {means}\")\n",
    "print(f\"Standard Deviations: {std_devs}\")\n",
    "print(f\"Probabilities: {probabilities}\")"
   ]
  },
  {
   "cell_type": "code",
   "execution_count": null,
   "metadata": {},
   "outputs": [],
   "source": []
  },
  {
   "cell_type": "code",
   "execution_count": null,
   "metadata": {},
   "outputs": [],
   "source": []
  },
  {
   "cell_type": "code",
   "execution_count": null,
   "metadata": {},
   "outputs": [],
   "source": []
  },
  {
   "cell_type": "code",
   "execution_count": 9,
   "metadata": {},
   "outputs": [],
   "source": [
    "# Create M-Step"
   ]
  },
  {
   "cell_type": "markdown",
   "metadata": {},
   "source": [
    "Please add your Jupyter Notebook in HTML format to the discussion board found under Module 6. You are encouraged to review other students' submissions to check and discuss differences in your approaches. "
   ]
  }
 ],
 "metadata": {
  "kernelspec": {
   "display_name": "en-685-621",
   "language": "python",
   "name": "python3"
  },
  "language_info": {
   "codemirror_mode": {
    "name": "ipython",
    "version": 3
   },
   "file_extension": ".py",
   "mimetype": "text/x-python",
   "name": "python",
   "nbconvert_exporter": "python",
   "pygments_lexer": "ipython3",
   "version": "3.11.8"
  }
 },
 "nbformat": 4,
 "nbformat_minor": 2
}
