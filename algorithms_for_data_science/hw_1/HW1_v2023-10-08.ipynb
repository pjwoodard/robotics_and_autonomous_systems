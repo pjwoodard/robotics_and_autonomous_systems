{
 "cells": [
  {
   "cell_type": "markdown",
   "metadata": {},
   "source": [
    "## <h3 align=\"center\"> __Johns Hopkins University__</h3>\n",
    "## <h3 align=\"center\">__Whiting School of Engineering__</h3>\n",
    "## <h3 align=\"center\">__Engineering for Professionals__</h3>\n",
    "## <h3 align=\"center\">__685.621 Algorithms for Data Science__</h3>\n",
    "## <h3 align=\"center\">__Homework 1__</h3>\n",
    "## <h3 align=\"center\">__Assigned at the start of Module 1,2__</h3>\n",
    "## <h3 align=\"center\">__Due at the end of Module 1,2__</h3><br>\n",
    "## <h3 align=\"center\">__Total Points 100/100__</h3>\n",
    "Class, the below is a standard set of instructions for each HW, in this assignment groups will be set up for collaboration. We will use this HW assignment as a dry run for HW2, HW3, HW4 and HW5 as well as discussions. <br><br>\n",
    "All members of the collaboration group are expected to participate fully in solving collaborative problems and sub-problems. Note, however, that each student is required to write up their solutions individually for all problems in their respective submission. Furthermore, to receive credit for a collaboration problem, each student in the collaboration group must actively and substantially contribute to the collaboration. This implies that no single student should post a complete solution to any problem at the beginning of the collaboration process."
   ]
  },
  {
   "cell_type": "markdown",
   "metadata": {},
   "source": [
    "# __1. Module 1 - Chapter 10, 11, 12 Parts a - d Note this is a Collaborative Problem__<br>\n",
    "100 Points Total<br><br>\n",
    "Python has four inbuilt data structures as follows:<br>\n",
    "1. Lists\n",
    "2. Dictionary\n",
    "3. Tuple\n",
    "4. Set <br>\n",
    "\n",
    "For each of these data structures use the Iris data set and provide the following:"
   ]
  },
  {
   "cell_type": "markdown",
   "metadata": {},
   "source": [
    "# (a) [25 points] Lists\n",
    "- Define a \"list\" as comprehensively and accurately as you would find in a dictionary. Provide a clear and concise explanation, covering its essential meaning, characteristics, and any relevant context.\n",
    "- Create a list in Python using the first observation, all features and label from the Iris data set\n",
    "- Show the output with a print statement\n",
    "- Add the second observation of the Iris data set to your list\n",
    "- Show the output of your list with a print statement"
   ]
  },
  {
   "cell_type": "markdown",
   "metadata": {},
   "source": [
    "## Type definition here ##"
   ]
  },
  {
   "cell_type": "markdown",
   "metadata": {},
   "source": [
    "A python list is an ordered, continguous collections of elements. Lists are ordered, can be changed, and allow for values to be duplicated an arbitrary amount of times. \n",
    "\n",
    "Individual elements in a list can be referred to by their location in the list, starting at 0.\n",
    "\n",
    "* List elements can added to the end of the list with append, or if you have an iterable you can add each element of the iterable to a list using extend.\n",
    "* List elements can be added to a specific location in a list with insert, or by just using bracket notation\n",
    "* List elements can be removed\n",
    "* Lists are dynamic in size and can grow or shink as items are added or removed"
   ]
  },
  {
   "cell_type": "code",
   "execution_count": 5,
   "metadata": {},
   "outputs": [
    {
     "name": "stdout",
     "output_type": "stream",
     "text": [
      "(150, 4)\n",
      "[[5.1, 3.5, 1.4, 0.2, 'setosa']]\n",
      "[[5.1, 3.5, 1.4, 0.2, 'setosa'], [4.9, 3.0, 1.4, 0.2, 'setosa']]\n"
     ]
    }
   ],
   "source": [
    "import pandas as pd\n",
    "import numpy as np\n",
    "\n",
    "feature_list = []\n",
    "\n",
    "iris_data = pd.read_csv('iris.csv')\n",
    "df = pd.read_csv('iris.csv')\n",
    "y = df.species.astype('category').cat.codes.values\n",
    "print(y)\n",
    "x = np.array(df.iloc[:, 0:4])\n",
    "print(x)\n",
    "print(x.shape)\n",
    "\n",
    "feature_list.append(iris_data.iloc[0].values.tolist())\n",
    "print(feature_list)\n",
    "\n",
    "feature_list.append(iris_data.iloc[1].values.tolist())\n",
    "print(feature_list)\n"
   ]
  },
  {
   "cell_type": "markdown",
   "metadata": {},
   "source": [
    "# (b) [25 points] Dictionary\n",
    "- Define a \"dictionary\" as comprehensively and accurately as you would find in a dictionary. Provide a clear and concise explanation, covering its essential meaning, characteristics, and any relevant context.\n",
    "- Create a dictionary in Python using the classes of Setosa, Versicolor and Virginica, allow elements (2 observations per class) to be added\n",
    "- Show the output with a print statement\n",
    "- Add a third observation of the Iris data set for each class\n",
    "- Show the output of your with a print statement"
   ]
  },
  {
   "cell_type": "markdown",
   "metadata": {},
   "source": [
    "## Type definition here ##"
   ]
  },
  {
   "cell_type": "markdown",
   "metadata": {},
   "source": [
    "A dictionary is an associative container that stores data as key-valueu pairs. This storage of data allows for efficient look up and retrieval of data. \n",
    "Dictionaries are able to look up, insert, or remove data by key very quickly. Dictionaries are unordered in python unless specifically using a dictionary that maintains order. Keys within a dictionary are unique but multiple values can be duplicated across keys. Dictionaries are dynamically sized and grow and shrink as key-value pairs are added or removed.\n"
   ]
  },
  {
   "cell_type": "code",
   "execution_count": 2,
   "metadata": {},
   "outputs": [
    {
     "name": "stdout",
     "output_type": "stream",
     "text": [
      "{'setosa': [[5.1, 3.5, 1.4, 0.2], [4.9, 3.0, 1.4, 0.2]], 'versicolor': [[7.0, 3.2, 4.7, 1.4], [6.4, 3.2, 4.5, 1.5]], 'virginica': [[6.3, 3.3, 6.0, 2.5], [5.8, 2.7, 5.1, 1.9]]}\n",
      "{'setosa': [[5.1, 3.5, 1.4, 0.2], [4.9, 3.0, 1.4, 0.2], [4.7, 3.2, 1.3, 0.2]], 'versicolor': [[7.0, 3.2, 4.7, 1.4], [6.4, 3.2, 4.5, 1.5], [6.9, 3.1, 4.9, 1.5]], 'virginica': [[6.3, 3.3, 6.0, 2.5], [5.8, 2.7, 5.1, 1.9], [7.1, 3.0, 5.9, 2.1]]}\n"
     ]
    }
   ],
   "source": [
    "import pandas as pd\n",
    "\n",
    "from typing import Dict, List\n",
    "\n",
    "features: Dict[str, List[List[float]]] = {'setosa': [], 'versicolor': [], 'virginica': []} \n",
    "\n",
    "iris_data = pd.read_csv('iris.csv')\n",
    "\n",
    "# Probably don't need to take the labels, considering I am adding them to a dict with the labels as keys\n",
    "features['setosa'].extend(iris_data.loc[iris_data['species'] == 'setosa'].iloc[0:2, :-1].values.tolist())\n",
    "features['versicolor'].extend(iris_data.loc[iris_data['species'] == 'versicolor'].iloc[0:2, :-1].values.tolist())\n",
    "features['virginica'].extend(iris_data.loc[iris_data['species'] == 'virginica'].iloc[0:2, :-1].values.tolist())\n",
    "print(features)\n",
    "\n",
    "features['setosa'].append(iris_data.loc[iris_data['species'] == 'setosa'].iloc[2, :-1].values.tolist())\n",
    "features['versicolor'].append(iris_data.loc[iris_data['species'] == 'versicolor'].iloc[2, :-1].values.tolist())\n",
    "features['virginica'].append(iris_data.loc[iris_data['species'] == 'virginica'].iloc[2, :-1].values.tolist())\n",
    "print(features)"
   ]
  },
  {
   "cell_type": "markdown",
   "metadata": {},
   "source": [
    "# (c) [25 points] Tuple\n",
    "- Define a \"tuple\"\" as comprehensively and accurately as you would find in a dictionary. Provide a clear and concise explanation, covering its essential meaning, characteristics, and any relevant context.\n",
    "- Create a tuple in Python using the classes of Setosa, Versicolor and Virginica, allow elements ( start with 2 observations and 2 features per class) to be added\n",
    "- Show the output with a print statement\n",
    "- Add a third observation and a third feature of the Iris data set for each class\n",
    "- Show the output of your with a print statement"
   ]
  },
  {
   "cell_type": "markdown",
   "metadata": {},
   "source": [
    "## Type definition here ##"
   ]
  },
  {
   "cell_type": "markdown",
   "metadata": {},
   "source": [
    "A tuple is an immutable data structure in python that represents an ordered, contiguous collection of elements. Tuples are homogenous and can contain a collection of data of multiple different types. You can access individual elements in a tuple by accessing them by index starting at 0. Tuples are fixed size as a result of their immutability."
   ]
  },
  {
   "cell_type": "code",
   "execution_count": 3,
   "metadata": {},
   "outputs": [
    {
     "name": "stdout",
     "output_type": "stream",
     "text": [
      "IrisData(setosa=[[5.1, 3.5], [4.9, 3.0]], versicolor=[[7.0, 3.2], [6.4, 3.2]], virginica=[[6.3, 3.3], [5.8, 2.7]])\n",
      "IrisData(setosa=[[5.1, 3.5, 1.4], [4.9, 3.0, 1.4], [4.7, 3.2, 1.3]], versicolor=[[7.0, 3.2, 4.7], [6.4, 3.2, 4.5], [6.9, 3.1, 4.9]], virginica=[[6.3, 3.3, 6.0], [5.8, 2.7, 5.1], [7.1, 3.0, 5.9]])\n"
     ]
    }
   ],
   "source": [
    "import pandas as pd\n",
    "\n",
    "from collections import namedtuple \n",
    "\n",
    "iris_data = pd.read_csv('iris.csv')\n",
    "\n",
    "# Make a named tuple of the data with each of our elements\n",
    "IrisData = namedtuple('IrisData', ['setosa', 'versicolor', 'virginica'])\n",
    "\n",
    "# Start off by grabbing two observations and 2 features per class and making our tuple out of them\n",
    "data = IrisData(\n",
    "    setosa=iris_data.loc[iris_data['species'] == 'setosa'].iloc[0:2, 0:2].values.tolist(),\n",
    "    versicolor=iris_data.loc[iris_data['species'] == 'versicolor'].iloc[0:2, 0:2].values.tolist(),\n",
    "    virginica=iris_data.loc[iris_data['species'] == 'virginica'].iloc[0:2, 0:2].values.tolist())\n",
    "\n",
    "print(data)\n",
    "\n",
    "# Add a third observation to each species list in our tuple\n",
    "for species in data._fields:\n",
    "    getattr(data, species).extend(iris_data.loc[iris_data['species'] == species].iloc[2:3, 0:2].values.tolist())\n",
    "\n",
    "# Add a third feature to each observation per species in our tuple\n",
    "for species in data._fields:\n",
    "    # Use iloc to get a list of our new feature data\n",
    "    new_feature_data = iris_data.loc[iris_data['species'] == species].iloc[0:3, 2:3].values.tolist()\n",
    "\n",
    "    # Zip that up with our current set of observation data, and extend each observation with our new feature\n",
    "    for feature, observation in zip(new_feature_data, getattr(data, species)):\n",
    "        observation.extend(feature)\n",
    "\n",
    "print(data)"
   ]
  },
  {
   "cell_type": "markdown",
   "metadata": {},
   "source": [
    "# (d) [25 points] Set\n",
    "- Define a \"set\"\" as comprehensively and accurately as you would find in a dictionary. Provide a clear and concise explanation, covering its essential meaning, characteristics, and any relevant context.\n",
    "- Create a set (1st set) in Python using the first observation of the Setosa class allowing elements to be added\n",
    "- Show the output with a print statement\n",
    "- Create another set (2nd set) by adding the second observation of the Setosa class \n",
    "- Show the output of the following operations with the 1st set and 2nd set with a print statement\n",
    "    * Difference\n",
    "    * Intersection\n",
    "    * Union"
   ]
  },
  {
   "cell_type": "markdown",
   "metadata": {},
   "source": [
    "## Type definition here"
   ]
  },
  {
   "cell_type": "markdown",
   "metadata": {},
   "source": [
    "A set in Python is a data structure that represents an unordered collection of unique elements. Sets themselves are mutable and items can be added or removed. Duplicate items that are added will not appear in the set. Elements of a set must themselves be immutable. Sets have a dynamic size and will grow or shrink depending on the number of items that are added or removed."
   ]
  },
  {
   "cell_type": "code",
   "execution_count": 4,
   "metadata": {},
   "outputs": [
    {
     "name": "stdout",
     "output_type": "stream",
     "text": [
      "Set 1: {0.2, 1.4, 3.5, 5.1}\n",
      "Set 2: {0.2, 1.4, 3.5, 4.9, 5.1, 3.0}\n",
      "Difference (Set 1 vs. Set 2): set()\n",
      "Difference (Set 2 vs. Set 1): {3.0, 4.9}\n",
      "Intersection: {0.2, 1.4, 3.5, 5.1}\n",
      "Union: {0.2, 1.4, 3.5, 4.9, 5.1, 3.0}\n"
     ]
    }
   ],
   "source": [
    "import pandas as pd\n",
    "\n",
    "from typing import Set \n",
    "\n",
    "iris_data = pd.read_csv('iris.csv')\n",
    "\n",
    "# First data set gets first observation from setosa\n",
    "data_set: Set = {*iris_data.loc[iris_data['species'] == 'setosa'].iloc[0:1, :-1].values.flatten().tolist()}\n",
    "print(f\"Set 1: {data_set}\")\n",
    "\n",
    "# Second data set gets first + second observation from setosa\n",
    "new_data_set: Set = {*iris_data.loc[iris_data['species'] == 'setosa'].iloc[0:2, :-1].values.flatten().tolist()}\n",
    "print(f\"Set 2: {new_data_set}\")\n",
    "\n",
    "# Difference between 1st set and second set (used the wording of the question to determine ordering)\n",
    "print(f\"Difference (Set 1 vs. Set 2): {data_set.difference(new_data_set)}\")\n",
    "\n",
    "# The other way for completeness\n",
    "print(f\"Difference (Set 2 vs. Set 1): {new_data_set.difference(data_set)}\")\n",
    "\n",
    "# Intersection between 1st set and second set\n",
    "print(f\"Intersection: {data_set.intersection(new_data_set)}\")\n",
    "\n",
    "# Union of 1st set and second set\n",
    "print(f\"Union: {data_set.union(new_data_set)}\")"
   ]
  },
  {
   "cell_type": "markdown",
   "metadata": {},
   "source": [
    "# References\n",
    "[1] Thomas H. Cormen, Charles E. Leiserson, Ronald L. Rivest, and Clifford Stein. Introduction to\n",
    "Algorithms, Third Edition. MIT Press and McGraw-Hill, 2009. ISBN-13: 978-0-262-03384-8<br><br>\n",
    "[2] Thomas H. Cormen. The clrscode and clrscode3e packages for LaTeX2e, Retrived Jan 2010,\n",
    "http://www.cs.dartmouth.edu/ thc/clrscode/<br><br>\n",
    "[3] simpleilearn, Top 90+ Data Science Interview Questions and Answers: Basic to Technical,\n",
    "https://www.simplilearn.com/tutorials/data-science-tutorial/data-science-interview-questions<br><br>\n",
    "[4] simpleilearn, 22 Artificial Intelligence Interview Questions to Prepare,\n",
    "https://www.simplilearn.com/artificial-intelligence-ai-interview-questions-and-answers-article<br><br>\n",
    "[5] Python, Data Structures, https://docs.python.org/3/tutorial/datastructures.html"
   ]
  }
 ],
 "metadata": {
  "interpreter": {
   "hash": "aee8b7b246df8f9039afb4144a1f6fd8d2ca17a180786b69acc140d282b71a49"
  },
  "kernelspec": {
   "display_name": "Python 3.9.1 64-bit",
   "name": "python3"
  },
  "language_info": {
   "codemirror_mode": {
    "name": "ipython",
    "version": 3
   },
   "file_extension": ".py",
   "mimetype": "text/x-python",
   "name": "python",
   "nbconvert_exporter": "python",
   "pygments_lexer": "ipython3",
   "version": "3.11.8"
  },
  "orig_nbformat": 4
 },
 "nbformat": 4,
 "nbformat_minor": 2
}
